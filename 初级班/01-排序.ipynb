{
 "cells": [
  {
   "cell_type": "markdown",
   "metadata": {},
   "source": [
    "# 排序"
   ]
  },
  {
   "cell_type": "markdown",
   "metadata": {},
   "source": [
    "## 冒泡排序"
   ]
  },
  {
   "cell_type": "code",
   "execution_count": 1,
   "metadata": {
    "ExecuteTime": {
     "end_time": "2022-05-02T16:09:15.765409Z",
     "start_time": "2022-05-02T16:09:15.759220Z"
    }
   },
   "outputs": [],
   "source": [
    "def BubbleSort(lyst):\n",
    "    if lyst is None or len(lyst)<2:\n",
    "        return\n",
    "    for end in range(len(lyst)-1,0,-1):\n",
    "        for i in range(end):\n",
    "            if lyst[i]>lyst[i+1]:\n",
    "                lyst[i],lyst[i+1] = lyst[i+1],lyst[i]"
   ]
  },
  {
   "cell_type": "code",
   "execution_count": 2,
   "metadata": {
    "ExecuteTime": {
     "end_time": "2022-05-02T16:09:15.866516Z",
     "start_time": "2022-05-02T16:09:15.778991Z"
    }
   },
   "outputs": [
    {
     "data": {
      "text/plain": [
       "[1, 2, 3, 4, 5]"
      ]
     },
     "execution_count": 2,
     "metadata": {},
     "output_type": "execute_result"
    }
   ],
   "source": [
    "a = [5,4,3,2,1]\n",
    "BubbleSort(a)\n",
    "a"
   ]
  },
  {
   "cell_type": "markdown",
   "metadata": {},
   "source": [
    "## 选择排序"
   ]
  },
  {
   "cell_type": "code",
   "execution_count": 3,
   "metadata": {
    "ExecuteTime": {
     "end_time": "2022-05-02T16:09:15.899244Z",
     "start_time": "2022-05-02T16:09:15.880223Z"
    }
   },
   "outputs": [],
   "source": [
    "def SelectionSort(lyst):\n",
    "    \"\"\"\n",
    "    每次遍历i+1到最后，选出其中最小值的索引;交换第i个值和最小值\n",
    "    \"\"\"\n",
    "    if lyst is None or len(lyst)<2:\n",
    "        return\n",
    "    for i in range(len(lyst)-1):\n",
    "        min_idx = i\n",
    "        for j in range(i+1,len(lyst)):\n",
    "            min_idx = j if lyst[j]<lyst[min_idx] else min_idx\n",
    "        lyst[i],lyst[min_idx] = lyst[min_idx],lyst[i]\n",
    "                \n",
    "    "
   ]
  },
  {
   "cell_type": "code",
   "execution_count": 4,
   "metadata": {
    "ExecuteTime": {
     "end_time": "2022-05-02T16:09:15.918143Z",
     "start_time": "2022-05-02T16:09:15.909131Z"
    }
   },
   "outputs": [
    {
     "data": {
      "text/plain": [
       "[1, 2, 3, 4, 5]"
      ]
     },
     "execution_count": 4,
     "metadata": {},
     "output_type": "execute_result"
    }
   ],
   "source": [
    "a = [5,4,3,2,1]\n",
    "SelectionSort(a)\n",
    "a"
   ]
  },
  {
   "cell_type": "markdown",
   "metadata": {},
   "source": [
    "## 插入排序"
   ]
  },
  {
   "cell_type": "code",
   "execution_count": 5,
   "metadata": {
    "ExecuteTime": {
     "end_time": "2022-05-02T16:09:15.936582Z",
     "start_time": "2022-05-02T16:09:15.924952Z"
    }
   },
   "outputs": [],
   "source": [
    "def InsertSort(lyst):\n",
    "    \"\"\"\n",
    "    扑克牌排序，左侧(0~i-1)为有序数组，每次将i的数值插入到左侧，维持有序\n",
    "    \"\"\"\n",
    "    if lyst is None or len(lyst) < 2:\n",
    "        return\n",
    "    for i in range(1, len(lyst)-1):\n",
    "        key = lyst[i]\n",
    "        for j in range(i-1, 0, -1):\n",
    "            if lyst[j] < lyst[j+1]:\n",
    "                lyst[j+1] = key\n",
    "                break\n",
    "            lyst[j+1] = lyst[j]"
   ]
  },
  {
   "cell_type": "code",
   "execution_count": 6,
   "metadata": {
    "ExecuteTime": {
     "end_time": "2022-05-02T16:09:15.951379Z",
     "start_time": "2022-05-02T16:09:15.941736Z"
    }
   },
   "outputs": [
    {
     "data": {
      "text/plain": [
       "[5, 4, 4, 4, 1]"
      ]
     },
     "execution_count": 6,
     "metadata": {},
     "output_type": "execute_result"
    }
   ],
   "source": [
    "a = [5,4,3,2,1]\n",
    "InsertSort(a)\n",
    "a"
   ]
  },
  {
   "cell_type": "markdown",
   "metadata": {},
   "source": [
    "|            | 冒泡排序    | 选择排序    | 插入排序    |\n",
    "| ---------- | ----------- | ----------- | ----------- |\n",
    "| 时间复杂度 | $$O(N^2)$$ | $$O(N^2)$$ | $$O(N^2)$$ |\n",
    "| 空间复杂度 | $$O(1)$$    | $$O(1)$$    | $$O(1)$$    |"
   ]
  },
  {
   "cell_type": "markdown",
   "metadata": {},
   "source": [
    "\n",
    "|            | 归并排序     | 快速排序      | 堆排序    |\n",
    "| ---------- | ---------- | ---------- | ---------- |\n",
    "| 时间复杂度  | $$O(NlogN)$$  | $$O(NlogN)$$ | $$O(NlogN)$$ |\n",
    "| 空间复杂度  | $$O(N)$$      | $$O(logN)$$  | $$O(1)$$     |"
   ]
  },
  {
   "cell_type": "markdown",
   "metadata": {},
   "source": [
    "## 归并排序"
   ]
  },
  {
   "cell_type": "code",
   "execution_count": 7,
   "metadata": {
    "ExecuteTime": {
     "end_time": "2022-05-02T16:09:15.974986Z",
     "start_time": "2022-05-02T16:09:15.960325Z"
    }
   },
   "outputs": [],
   "source": [
    "def MergeSort(lyst):\n",
    "    if lyst is None or len(lyst) < 2:\n",
    "        return\n",
    "    sort_process(lyst, 0, len(lyst) - 1)\n",
    "\n",
    "\n",
    "def sort_process(lyst, L, R):\n",
    "    if L >= R:\n",
    "        return\n",
    "    mid = L + ((R - L) >> 1)  # () 不能省略，+ 优先级高于>>\n",
    "    sort_process(lyst, L, mid)\n",
    "    sort_process(lyst, mid + 1, R)\n",
    "    merge(lyst, L, R, mid)\n",
    "\n",
    "\n",
    "def merge(lyst, L, R, mid):\n",
    "    p1 = L\n",
    "    p2 = mid + 1\n",
    "    h = []\n",
    "    while p1 <= mid and p2 <= R:\n",
    "        if lyst[p1] < lyst[p2]:\n",
    "            s = lyst[p1]\n",
    "            p1 += 1\n",
    "        else:\n",
    "            s = lyst[p2]\n",
    "            p2 += 1\n",
    "        h.append(s)\n",
    "    while p1 <= mid:\n",
    "        h.append(lyst[p1])\n",
    "        p1 += 1\n",
    "    while p2 <= R:\n",
    "        h.append(lyst[p2])\n",
    "        p2 += 1\n",
    "    for i in range(len(h)):\n",
    "        lyst[L + i] = h[i]"
   ]
  },
  {
   "cell_type": "code",
   "execution_count": 8,
   "metadata": {
    "ExecuteTime": {
     "end_time": "2022-05-02T16:09:16.001184Z",
     "start_time": "2022-05-02T16:09:15.994359Z"
    }
   },
   "outputs": [
    {
     "data": {
      "text/plain": [
       "[1, 2, 3, 4, 5]"
      ]
     },
     "execution_count": 8,
     "metadata": {},
     "output_type": "execute_result"
    }
   ],
   "source": [
    "a = [5,4,3,2,1]\n",
    "MergeSort(a)\n",
    "a"
   ]
  },
  {
   "cell_type": "code",
   "execution_count": null,
   "metadata": {},
   "outputs": [],
   "source": []
  }
 ],
 "metadata": {
  "kernelspec": {
   "display_name": "Python 3",
   "language": "python",
   "name": "python3"
  },
  "language_info": {
   "codemirror_mode": {
    "name": "ipython",
    "version": 3
   },
   "file_extension": ".py",
   "mimetype": "text/x-python",
   "name": "python",
   "nbconvert_exporter": "python",
   "pygments_lexer": "ipython3",
   "version": "3.6.9"
  },
  "toc": {
   "base_numbering": 1,
   "nav_menu": {},
   "number_sections": true,
   "sideBar": true,
   "skip_h1_title": false,
   "title_cell": "Table of Contents",
   "title_sidebar": "Contents",
   "toc_cell": false,
   "toc_position": {},
   "toc_section_display": true,
   "toc_window_display": false
  }
 },
 "nbformat": 4,
 "nbformat_minor": 4
}
