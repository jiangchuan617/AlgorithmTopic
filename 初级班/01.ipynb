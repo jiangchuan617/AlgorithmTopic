{
 "cells": [
  {
   "cell_type": "markdown",
   "metadata": {},
   "source": [
    "# 排序"
   ]
  },
  {
   "cell_type": "markdown",
   "metadata": {},
   "source": [
    "## 冒泡排序"
   ]
  },
  {
   "cell_type": "code",
   "execution_count": 1,
   "metadata": {
    "ExecuteTime": {
     "end_time": "2022-05-02T09:50:25.302966Z",
     "start_time": "2022-05-02T09:50:25.298138Z"
    }
   },
   "outputs": [],
   "source": [
    "def BubbleSort(lyst):\n",
    "    if lyst is None or len(lyst)<2:\n",
    "        return\n",
    "    for end in range(len(lyst)-1,0,-1):\n",
    "        for i in range(end):\n",
    "            if lyst[i]>lyst[i+1]:\n",
    "                lyst[i],lyst[i+1] = lyst[i+1],lyst[i]"
   ]
  },
  {
   "cell_type": "code",
   "execution_count": 2,
   "metadata": {
    "ExecuteTime": {
     "end_time": "2022-05-02T09:50:25.331743Z",
     "start_time": "2022-05-02T09:50:25.312819Z"
    }
   },
   "outputs": [
    {
     "data": {
      "text/plain": [
       "[1, 2, 3, 4, 5]"
      ]
     },
     "execution_count": 2,
     "metadata": {},
     "output_type": "execute_result"
    }
   ],
   "source": [
    "a = [5,4,3,2,1]\n",
    "BubbleSort(a)\n",
    "a"
   ]
  },
  {
   "cell_type": "markdown",
   "metadata": {},
   "source": [
    "## 选择排序"
   ]
  },
  {
   "cell_type": "code",
   "execution_count": 3,
   "metadata": {
    "ExecuteTime": {
     "end_time": "2022-05-02T09:50:25.344347Z",
     "start_time": "2022-05-02T09:50:25.335825Z"
    }
   },
   "outputs": [],
   "source": [
    "def SelectionSort(lyst):\n",
    "    \"\"\"\n",
    "    每次遍历i+1到最后，选出其中最小值的索引;交换第i个值和最小值\n",
    "    \"\"\"\n",
    "    if lyst is None or len(lyst)<2:\n",
    "        return\n",
    "    for i in range(len(lyst)-1):\n",
    "        min_idx = i\n",
    "        for j in range(i+1,len(lyst)):\n",
    "            min_idx = j if lyst[j]<lyst[min_idx] else min_idx\n",
    "        lyst[i],lyst[min_idx] = lyst[min_idx],lyst[i]\n",
    "                \n",
    "    "
   ]
  },
  {
   "cell_type": "code",
   "execution_count": 4,
   "metadata": {
    "ExecuteTime": {
     "end_time": "2022-05-02T09:50:25.381146Z",
     "start_time": "2022-05-02T09:50:25.348688Z"
    }
   },
   "outputs": [
    {
     "data": {
      "text/plain": [
       "[1, 2, 3, 4, 5]"
      ]
     },
     "execution_count": 4,
     "metadata": {},
     "output_type": "execute_result"
    }
   ],
   "source": [
    "a = [5,4,3,2,1]\n",
    "SelectionSort(a)\n",
    "a"
   ]
  },
  {
   "cell_type": "code",
   "execution_count": null,
   "metadata": {},
   "outputs": [],
   "source": []
  }
 ],
 "metadata": {
  "kernelspec": {
   "display_name": "Python 3",
   "language": "python",
   "name": "python3"
  },
  "language_info": {
   "codemirror_mode": {
    "name": "ipython",
    "version": 3
   },
   "file_extension": ".py",
   "mimetype": "text/x-python",
   "name": "python",
   "nbconvert_exporter": "python",
   "pygments_lexer": "ipython3",
   "version": "3.6.9"
  },
  "toc": {
   "base_numbering": 1,
   "nav_menu": {},
   "number_sections": true,
   "sideBar": true,
   "skip_h1_title": false,
   "title_cell": "Table of Contents",
   "title_sidebar": "Contents",
   "toc_cell": false,
   "toc_position": {},
   "toc_section_display": true,
   "toc_window_display": false
  }
 },
 "nbformat": 4,
 "nbformat_minor": 4
}
